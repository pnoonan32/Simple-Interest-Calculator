{
 "cells": [
  {
   "cell_type": "markdown",
   "metadata": {},
   "source": [
    "I = Interest\n",
    "P = Principal Amount \n",
    "R = Interest Rate (answers will be displayed in decimals in this )\n",
    "T = Term {of loan} (if Term is in days divide by 365, if Term in Months divide by 12)\n",
    "\n",
    "* Another way to solve for Interest if needed:\n",
    "Repayment Amount = I + P\n",
    "    OR\n",
    "Repayment Amount - P = I\n",
    "\n"
   ]
  },
  {
   "cell_type": "markdown",
   "metadata": {},
   "source": [
    "Example Problem: Chris borrowed $24,250 for 273 days. Find the simple interest rate for the loan if the total required to repay the loan is 26,028 "
   ]
  },
  {
   "cell_type": "code",
   "execution_count": 19,
   "metadata": {},
   "outputs": [],
   "source": [
    "def solve_for_simple_interest(p,r,t,):\n",
    "    # If interest is unknown\n",
    "    final_answer = p*r*t\n",
    "    return round(final_answer, 2)\n",
    "\n",
    "def solve_for_repayment_amount(i,p):\n",
    "    \n",
    "    return i + p\n",
    "\n",
    "def solve_for_prinicpal_amount(i,r,t):\n",
    "    # If principal is unknown\n",
    "    return i / (r*t)\n",
    "\n",
    "def solve_for_interest_rate(i,p,t):\n",
    "    # If interest rate is unknown\n",
    "    final_answer = i / (p*t)\n",
    "    return round(final_answer, 2)\n",
    "\n",
    "def solve_for_term_of_loan(i,p,r):\n",
    "    # If term of loan is unknown\n",
    "    final_answer = i / (p*r)\n",
    "    return round(final_answer, 2)\n",
    "\n",
    "    \n",
    "    "
   ]
  },
  {
   "cell_type": "code",
   "execution_count": 11,
   "metadata": {},
   "outputs": [
    {
     "data": {
      "text/plain": [
       "0.09"
      ]
     },
     "execution_count": 11,
     "metadata": {},
     "output_type": "execute_result"
    }
   ],
   "source": [
    "solve_for_interest_rate(1778, 26028, 273/365 )"
   ]
  },
  {
   "cell_type": "code",
   "execution_count": 4,
   "metadata": {},
   "outputs": [
    {
     "data": {
      "text/plain": [
       "10.83"
      ]
     },
     "execution_count": 4,
     "metadata": {},
     "output_type": "execute_result"
    }
   ],
   "source": [
    "round(10.8349,2)"
   ]
  },
  {
   "cell_type": "code",
   "execution_count": 20,
   "metadata": {},
   "outputs": [
    {
     "data": {
      "text/plain": [
       "14.55"
      ]
     },
     "execution_count": 20,
     "metadata": {},
     "output_type": "execute_result"
    }
   ],
   "source": [
    "solve_for_term_of_loan(2000, 11000,.0125)"
   ]
  },
  {
   "cell_type": "code",
   "execution_count": null,
   "metadata": {},
   "outputs": [],
   "source": []
  }
 ],
 "metadata": {
  "kernelspec": {
   "display_name": "Python 3",
   "language": "python",
   "name": "python3"
  },
  "language_info": {
   "codemirror_mode": {
    "name": "ipython",
    "version": 3
   },
   "file_extension": ".py",
   "mimetype": "text/x-python",
   "name": "python",
   "nbconvert_exporter": "python",
   "pygments_lexer": "ipython3",
   "version": "3.6.5"
  }
 },
 "nbformat": 4,
 "nbformat_minor": 2
}
